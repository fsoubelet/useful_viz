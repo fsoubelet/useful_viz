{
 "cells": [
  {
   "cell_type": "code",
   "execution_count": null,
   "id": "general-school",
   "metadata": {},
   "outputs": [],
   "source": [
    "from typing import Dict, Tuple\n",
    "\n",
    "import matplotlib.pyplot as plt\n",
    "import numpy as np\n",
    "from matplotlib.patches import Circle\n",
    "\n",
    "%matplotlib Inline\n",
    "%config InlineBackend.figure_format = \"retina\""
   ]
  },
  {
   "cell_type": "markdown",
   "id": "powered-clothing",
   "metadata": {},
   "source": [
    "## Defining Generating Functions\n",
    "---"
   ]
  },
  {
   "cell_type": "code",
   "execution_count": null,
   "id": "recognized-football",
   "metadata": {},
   "outputs": [],
   "source": [
    "def E(q: float, r0: Tuple[float, float], x: np.ndarray, y: np.ndarray) -> Tuple[float, float]:\n",
    "    \"\"\"\n",
    "    Return the electric field vector E = (Ex, Ey) due to a charge q at position r0.\n",
    "\n",
    "    Args:\n",
    "        q (float): the charge value.\n",
    "        r0 (Tuple[float, float]): position of the charge.\n",
    "        x (np.ndarray): x positions at which to calculate the field.\n",
    "        y (np.ndarray): y positions at which to calculate the field.\n",
    "\n",
    "    Returns:\n",
    "        The field vector (Ex, Ey) as a tuple.\n",
    "    \"\"\"\n",
    "    denominator = np.hypot(x - r0[0], y - r0[1]) ** 3\n",
    "    return q * (x - r0[0]) / denominator, q * (y - r0[1]) / denominator"
   ]
  },
  {
   "cell_type": "code",
   "execution_count": null,
   "id": "baking-deposit",
   "metadata": {},
   "outputs": [],
   "source": [
    "def generate_multipole(order: int, skew: bool = False) -> Dict[Tuple[float, float], float]:\n",
    "    \"\"\"\n",
    "    Create a multipole with 2^order charges of alternating sign, equally spaced on the unit circle.\n",
    "\n",
    "    Args:\n",
    "        order (int): the order of the multipole.\n",
    "        skew (bool): if True, the multipole will be a skew one. Defaults to False.\n",
    "\n",
    "    Returns:\n",
    "        A dictionary of {position: charge_value} for each charge in the multipole.\n",
    "    \"\"\"\n",
    "    n_charges = 2 ** int(order)\n",
    "    offset = np.pi / 4 if skew else 0\n",
    "    charges = {}\n",
    "\n",
    "    for i in range(n_charges):\n",
    "        q = i % 2 * 2 - 1  # to alternate the signs\n",
    "        charges[(np.cos(offset + 2 * np.pi * i / n_charges), np.sin(offset + 2 * np.pi * i / n_charges))] = q\n",
    "    return charges"
   ]
  },
  {
   "cell_type": "code",
   "execution_count": null,
   "id": "commercial-classic",
   "metadata": {},
   "outputs": [],
   "source": [
    "def calculate_field_map(n_x: int, n_y: int, charges: Dict[Tuple[float, float], float]) -> Tuple[np.ndarray, np.ndarray]:\n",
    "    \"\"\"\n",
    "    Calculates the electric field vector values for all points in the grid of points.\n",
    "\n",
    "    Args:\n",
    "        n_x (int): number of points on the x axis.\n",
    "        n_y (int): number of points on the y axis.\n",
    "        charges (Dict[Tuple[float, float], float]): dict of charges positions and charge value, as returned by 'generate_multipole'.\n",
    "\n",
    "    Returns:\n",
    "        A tuple of the Ex and Ey arrays.\n",
    "    \"\"\"\n",
    "    Ex, Ey = np.zeros((n_y, n_x)), np.zeros((n_y, n_x))\n",
    "\n",
    "    for charge_position, charge in charges.items():\n",
    "        ex, ey = E(q=charge, r0=charge_position, x=X, y=Y)\n",
    "        Ex += ex\n",
    "        Ey += ey\n",
    "    return Ex, Ey"
   ]
  },
  {
   "cell_type": "markdown",
   "id": "informative-pierre",
   "metadata": {},
   "source": [
    "## Choosing and Order & Creating Grid\n",
    "---"
   ]
  },
  {
   "cell_type": "code",
   "execution_count": null,
   "id": "straight-flashing",
   "metadata": {},
   "outputs": [],
   "source": [
    "# Choose the multipole order here\n",
    "order = 2"
   ]
  },
  {
   "cell_type": "code",
   "execution_count": null,
   "id": "alien-administrator",
   "metadata": {},
   "outputs": [],
   "source": [
    "# Create a grid of x, y points\n",
    "n_x, n_y = 128, 128\n",
    "\n",
    "# Modify limits here depending on the order for better visual (remember the charges are on the unit circle)\n",
    "x = np.linspace(-1.5, 1.5, n_x)\n",
    "y = np.linspace(-1.5, 1.5, n_y)\n",
    "\n",
    "X, Y = np.meshgrid(x, y)"
   ]
  },
  {
   "cell_type": "markdown",
   "id": "collected-astrology",
   "metadata": {},
   "source": [
    "## Plotting Field Lines\n",
    "---"
   ]
  },
  {
   "cell_type": "markdown",
   "id": "wired-frame",
   "metadata": {},
   "source": [
    "### Normal Multipole"
   ]
  },
  {
   "cell_type": "code",
   "execution_count": null,
   "id": "vanilla-running",
   "metadata": {},
   "outputs": [],
   "source": [
    "charges = generate_multipole(order)\n",
    "Ex, Ey = calculate_field_map(n_x, n_y, charges)"
   ]
  },
  {
   "cell_type": "code",
   "execution_count": null,
   "id": "fifth-sister",
   "metadata": {},
   "outputs": [],
   "source": [
    "fig = plt.figure(figsize=(20, 12.5))\n",
    "axis = fig.add_subplot(111)\n",
    "\n",
    "# Plot the streamlines with an appropriate colormap and arrow style\n",
    "color = 2 * np.log(np.hypot(Ex, Ey))\n",
    "axis.streamplot(x, y, Ex, Ey, color=color, linewidth=1, cmap=plt.cm.inferno, density=2, arrowstyle=\"-|>\", arrowsize=1.5)\n",
    "\n",
    "# Add filled circles for the charges themselves\n",
    "charge_colors = {True: \"#aa0000\", False: \"#0000aa\"}\n",
    "for charge_position, charge in charges.items():\n",
    "    axis.add_artist(Circle(charge_position, 0.05, color=charge_colors[charge > 0]))\n",
    "\n",
    "axis.set_aspect(\"equal\")\n",
    "axis.set_axis_off()\n",
    "\n",
    "# plt.savefig(f\"multipole_order_{order}\", dpi=1000)"
   ]
  },
  {
   "cell_type": "markdown",
   "id": "acoustic-scope",
   "metadata": {},
   "source": [
    "### Skew Multipole"
   ]
  },
  {
   "cell_type": "code",
   "execution_count": null,
   "id": "determined-mechanism",
   "metadata": {},
   "outputs": [],
   "source": [
    "skew_charges = generate_multipole(order, skew=True)\n",
    "Ex_skew, Ey_skew = calculate_field_map(n_x, n_y, skew_charges)"
   ]
  },
  {
   "cell_type": "code",
   "execution_count": null,
   "id": "fiscal-drunk",
   "metadata": {},
   "outputs": [],
   "source": [
    "fig = plt.figure(figsize=(20, 12.5))\n",
    "axis = fig.add_subplot(111)\n",
    "\n",
    "# Plot the streamlines with an appropriate colormap and arrow style\n",
    "color = 2 * np.log(np.hypot(Ex_skew, Ey_skew))\n",
    "axis.streamplot(x, y, Ex_skew, Ey_skew, color=color, linewidth=1, cmap=plt.cm.inferno, density=2, arrowstyle=\"-|>\", arrowsize=1.5)\n",
    "\n",
    "# Add filled circles for the charges themselves\n",
    "charge_colors = {True: \"#aa0000\", False: \"#0000aa\"}\n",
    "for charge_position, charge in skew_charges.items():\n",
    "    axis.add_artist(Circle(charge_position, 0.05, color=charge_colors[charge > 0]))\n",
    "\n",
    "axis.set_aspect(\"equal\")\n",
    "axis.set_axis_off()\n",
    "\n",
    "# plt.savefig(f\"skew_multipole_order_{order}\", dpi=1000)"
   ]
  },
  {
   "cell_type": "markdown",
   "id": "convertible-vector",
   "metadata": {},
   "source": [
    "---"
   ]
  }
 ],
 "metadata": {
  "kernelspec": {
   "display_name": "Python 3",
   "language": "python",
   "name": "python3"
  },
  "language_info": {
   "codemirror_mode": {
    "name": "ipython",
    "version": 3
   },
   "file_extension": ".py",
   "mimetype": "text/x-python",
   "name": "python",
   "nbconvert_exporter": "python",
   "pygments_lexer": "ipython3",
   "version": "3.8.5"
  }
 },
 "nbformat": 4,
 "nbformat_minor": 5
}
